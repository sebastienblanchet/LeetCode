{
 "cells": [
  {
   "cell_type": "markdown",
   "metadata": {},
   "source": [
    "Submissions: 2638   Accuracy: 65.73%   Difficulty: Medium\n",
    "Show Topic Tags           Google\n",
    "\n",
    "Write a program to find the sum of bit differences in all pairs that can be formed from array elements n. \n",
    "\n",
    "Bit difference of a pair (x, y) is a count of different bits at same positions in binary representations of x and y. \n",
    "\n",
    "For example, bit difference for 2 and 7 is 2. \n",
    "\n",
    "Binary representation of 2 is 010 and 7 is 111 ( first and last bits differ in two numbers).\n",
    "\n",
    "Input: The first line of input contains an integer T denoting the number of test cases. First line of the test case will contain an array of elements n.\n",
    "Output: The sum of bit differences of all pairs that can be formed by given array.\n",
    "Constraints:\n",
    "\n",
    "1 <=T<= 100\n",
    "\n",
    "1 <=N<= 10\n",
    "\n",
    "1 <=a[i]<= 10\n",
    "Example:\n",
    "\n",
    "Input:\n",
    "\n",
    "2\n",
    "2 \n",
    "1 2\n",
    "3 \n",
    "1 3 5\n",
    "\n",
    "Output:\n",
    "\n",
    "4\n",
    "8\n",
    "\n",
    "https://www.geeksforgeeks.org/sum-of-bit-differences-among-all-pairs/"
   ]
  },
  {
   "cell_type": "code",
   "execution_count": 46,
   "metadata": {},
   "outputs": [
    {
     "name": "stdout",
     "output_type": "stream",
     "text": [
      "Binary representation of 1 is 0b1 \n",
      "Binary representation of 2 is 0b10 \n",
      "Binary representation of 7 is 0b111 \n"
     ]
    },
    {
     "ename": "NameError",
     "evalue": "global name 'item' is not defined",
     "output_type": "error",
     "traceback": [
      "\u001b[0;31m---------------------------------------------------------------------------\u001b[0m",
      "\u001b[0;31mNameError\u001b[0m                                 Traceback (most recent call last)",
      "\u001b[0;32m<ipython-input-46-bc387f8e8619>\u001b[0m in \u001b[0;36m<module>\u001b[0;34m()\u001b[0m\n\u001b[1;32m     35\u001b[0m \u001b[0;34m\u001b[0m\u001b[0m\n\u001b[1;32m     36\u001b[0m \u001b[0mpermuted\u001b[0m \u001b[0;34m=\u001b[0m \u001b[0mpermutes\u001b[0m\u001b[0;34m(\u001b[0m\u001b[0mrange\u001b[0m\u001b[0;34m(\u001b[0m\u001b[0;36m0\u001b[0m\u001b[0;34m,\u001b[0m\u001b[0mlen\u001b[0m\u001b[0;34m(\u001b[0m\u001b[0marr\u001b[0m\u001b[0;34m)\u001b[0m\u001b[0;34m)\u001b[0m\u001b[0;34m)\u001b[0m\u001b[0;34m\u001b[0m\u001b[0m\n\u001b[0;32m---> 37\u001b[0;31m \u001b[0msumout\u001b[0m \u001b[0;34m=\u001b[0m \u001b[0mbitsum\u001b[0m\u001b[0;34m(\u001b[0m\u001b[0marr\u001b[0m\u001b[0;34m,\u001b[0m \u001b[0mpermuted\u001b[0m\u001b[0;34m)\u001b[0m\u001b[0;34m\u001b[0m\u001b[0m\n\u001b[0m\u001b[1;32m     38\u001b[0m \u001b[0;34m\u001b[0m\u001b[0m\n\u001b[1;32m     39\u001b[0m \u001b[0;32mprint\u001b[0m\u001b[0;34m(\u001b[0m\u001b[0;34m'For array:{}'\u001b[0m \u001b[0;34m.\u001b[0m\u001b[0mformat\u001b[0m\u001b[0;34m(\u001b[0m\u001b[0marr\u001b[0m\u001b[0;34m)\u001b[0m\u001b[0;34m)\u001b[0m\u001b[0;34m\u001b[0m\u001b[0m\n",
      "\u001b[0;32m<ipython-input-46-bc387f8e8619>\u001b[0m in \u001b[0;36mbitsum\u001b[0;34m(arr, permuted)\u001b[0m\n\u001b[1;32m     23\u001b[0m         \u001b[0mitem1\u001b[0m \u001b[0;34m=\u001b[0m \u001b[0;34m(\u001b[0m\u001b[0mpermuted\u001b[0m\u001b[0;34m[\u001b[0m\u001b[0mi\u001b[0m\u001b[0;34m]\u001b[0m\u001b[0;34m)\u001b[0m\u001b[0;34m[\u001b[0m\u001b[0;36m0\u001b[0m\u001b[0;34m]\u001b[0m\u001b[0;34m\u001b[0m\u001b[0m\n\u001b[1;32m     24\u001b[0m         \u001b[0mitem2\u001b[0m \u001b[0;34m=\u001b[0m \u001b[0;34m(\u001b[0m\u001b[0mpermuted\u001b[0m\u001b[0;34m[\u001b[0m\u001b[0mi\u001b[0m\u001b[0;34m]\u001b[0m\u001b[0;34m)\u001b[0m\u001b[0;34m[\u001b[0m\u001b[0;36m1\u001b[0m\u001b[0;34m]\u001b[0m\u001b[0;34m\u001b[0m\u001b[0m\n\u001b[0;32m---> 25\u001b[0;31m         \u001b[0;32mprint\u001b[0m\u001b[0;34m(\u001b[0m\u001b[0mitem\u001b[0m\u001b[0;34m)\u001b[0m\u001b[0;34m\u001b[0m\u001b[0m\n\u001b[0m\u001b[1;32m     26\u001b[0m         \u001b[0msumout\u001b[0m \u001b[0;34m+=\u001b[0m \u001b[0;36m1\u001b[0m\u001b[0;34m\u001b[0m\u001b[0m\n\u001b[1;32m     27\u001b[0m \u001b[0;34m\u001b[0m\u001b[0m\n",
      "\u001b[0;31mNameError\u001b[0m: global name 'item' is not defined"
     ]
    }
   ],
   "source": [
    "from __future__ import print_function\n",
    "import itertools\n",
    "\n",
    "# CONSTANTS\n",
    "MAX_N = 10\n",
    "\n",
    "def arr2bin(arr):\n",
    "    n = len(arr)\n",
    "    arr_bin = []*n\n",
    "    arr_bin = [bin(item)[2:].zfill(3) for item in arr]\n",
    "    for i in range(n):\n",
    "        print(\"Binary representation of {} is {} \" .format(arr[i], bin(arr[i])))\n",
    "    return arr_bin\n",
    "\n",
    "def permutes(arr):  \n",
    "    return list(itertools.combinations(arr, 2))\n",
    "\n",
    "\n",
    "def bitsum(arr, permuted):\n",
    "    sumout = 0\n",
    "    \n",
    "    for i in range(len(arr)):\n",
    "        idx1 = (permuted[i])[0]\n",
    "        idx2 = (permuted[i])[1]\n",
    "        print('Permutation i:{} is idx1:{} and idx2:{}' .format(i, idx1, idx2))\n",
    "        sumout += 1\n",
    "    \n",
    "    return sumout\n",
    "      \n",
    "# N is number of test cases\n",
    "# 1 <= a[i] <= 10\n",
    "\n",
    "arr = [1,2,7]\n",
    "arr_bin = arr2bin(arr)\n",
    "\n",
    "permuted = permutes(range(0,len(arr)))\n",
    "sumout = bitsum(arr, permuted)\n",
    "\n",
    "print('For array:{}' .format(arr))\n",
    "print('Binary representation {}' .format(arr_bin))\n",
    "print('All permutations {}' .format(permuted))"
   ]
  },
  {
   "cell_type": "code",
   "execution_count": null,
   "metadata": {},
   "outputs": [],
   "source": []
  }
 ],
 "metadata": {
  "kernelspec": {
   "display_name": "Python 2",
   "language": "python",
   "name": "python2"
  },
  "language_info": {
   "codemirror_mode": {
    "name": "ipython",
    "version": 2
   },
   "file_extension": ".py",
   "mimetype": "text/x-python",
   "name": "python",
   "nbconvert_exporter": "python",
   "pygments_lexer": "ipython2",
   "version": "2.7.10"
  }
 },
 "nbformat": 4,
 "nbformat_minor": 2
}

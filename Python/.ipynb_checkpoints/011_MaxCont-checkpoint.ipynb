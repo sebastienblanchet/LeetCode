{
 "cells": [
  {
   "cell_type": "markdown",
   "metadata": {},
   "source": [
    "#011 Container w/ most water\n",
    "https://leetcode.com/problems/container-with-most-water/description/\n",
    "\n",
    "Given n non-negative integers a1, a2, ..., an, where each represents a point at coordinate (i, ai). n vertical lines are drawn such that the two endpoints of line i is at (i, ai) and (i, 0). \n",
    "\n",
    "Find two lines, which together with x-axis forms a container, such that the container contains the most water.\n",
    "\n",
    "Note: You may not slant the container and n is at least 2.\n",
    "\n",
    "We have to maximize the Area that can be formed between the vertical lines using the shorter line as length and the distance between the lines as the width of the rectangle forming the area.\n",
    "\n",
    "Topics: arrays, two pointers"
   ]
  },
  {
   "cell_type": "code",
   "execution_count": 14,
   "metadata": {},
   "outputs": [
    {
     "name": "stdout",
     "output_type": "stream",
     "text": [
      "For LEFT = a[0]=1, RIGHT: a[8]=7, area:7\n",
      "For LEFT = a[1]=8, RIGHT: a[8]=7, area:56\n",
      "For LEFT = a[1]=8, RIGHT: a[7]=3, area:24\n",
      "For LEFT = a[1]=8, RIGHT: a[6]=8, area:64\n",
      "For LEFT = a[1]=8, RIGHT: a[5]=4, area:32\n",
      "For LEFT = a[1]=8, RIGHT: a[4]=5, area:40\n",
      "For LEFT = a[1]=8, RIGHT: a[3]=2, area:16\n",
      "For LEFT = a[1]=8, RIGHT: a[2]=6, area:48\n"
     ]
    },
    {
     "data": {
      "text/plain": [
       "64"
      ]
     },
     "execution_count": 14,
     "metadata": {},
     "output_type": "execute_result"
    }
   ],
   "source": [
    "from __future__ import print_function\n",
    "\n",
    "# def maxArea(self, height): \n",
    "def maxArea(height):\n",
    "    \"\"\"\n",
    "    :type height: List[int]\n",
    "    :rtype: int\n",
    "    \"\"\"\n",
    "    ans = 0\n",
    "    \n",
    "    n = len(height)\n",
    "    l = 0\n",
    "    r = n - 1\n",
    "    \n",
    "    while l < r:\n",
    "        area = max(height[l], height[r])*(l + 1, r + 1)\n",
    "        \n",
    "        print('For LEFT = a[{}]={}, RIGHT: a[{}]={}, area:{}' .format(l, height[l], r, height[r], area))\n",
    "        \n",
    "        ans = max(ans, area)\n",
    "        \n",
    "        if height[l] < height[r]:\n",
    "            l +=1\n",
    "        else:\n",
    "            r -=1\n",
    "            \n",
    "    return ans\n",
    "    \n",
    "hght = [1,8,6,2,5,4,8,3,7]\n",
    "maxArea(hght)\n"
   ]
  },
  {
   "cell_type": "code",
   "execution_count": null,
   "metadata": {},
   "outputs": [],
   "source": []
  }
 ],
 "metadata": {
  "kernelspec": {
   "display_name": "Python 2",
   "language": "python",
   "name": "python2"
  },
  "language_info": {
   "codemirror_mode": {
    "name": "ipython",
    "version": 2
   },
   "file_extension": ".py",
   "mimetype": "text/x-python",
   "name": "python",
   "nbconvert_exporter": "python",
   "pygments_lexer": "ipython2",
   "version": "2.7.10"
  }
 },
 "nbformat": 4,
 "nbformat_minor": 2
}

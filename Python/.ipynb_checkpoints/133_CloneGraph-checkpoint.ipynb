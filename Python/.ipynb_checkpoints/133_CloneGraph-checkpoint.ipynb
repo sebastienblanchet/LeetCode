{
 "cells": [
  {
   "cell_type": "markdown",
   "metadata": {},
   "source": [
    "Clone an undirected graph. Each node in the graph contains a label and a list of its neighbors.\n",
    "\n",
    "\n",
    "OJ's undirected graph serialization:\n",
    "Nodes are labeled uniquely.\n",
    "\n",
    "We use # as a separator for each node, and , as a separator for node label and each neighbor of the node.\n",
    "As an example, consider the serialized graph {0,1,2#1,2#2,2}.\n",
    "\n",
    "The graph has a total of three nodes, and therefore contains three parts as separated by #.\n",
    "\n",
    "First node is labeled as 0. Connect node 0 to both nodes 1 and 2.\n",
    "Second node is labeled as 1. Connect node 1 to node 2.\n",
    "Third node is labeled as 2. Connect node 2 to node 2 (itself), thus forming a self-cycle.\n",
    "Visually, the graph looks like the following:\n",
    "\n",
    "       1\n",
    "      / \\\n",
    "     /   \\\n",
    "    0 --- 2\n",
    "         / \\\n",
    "         \\_/"
   ]
  },
  {
   "cell_type": "code",
   "execution_count": null,
   "metadata": {},
   "outputs": [],
   "source": [
    "\n",
    "def cloneGraph(node):\n",
    "    if not node:\n",
    "        return node\n",
    "\n",
    "    # init root\n",
    "    root = UndirectedGraphNode(node.label)\n",
    "\n",
    "    # generate  for dfs\n",
    "    stack = [node]\n",
    "\n",
    "    # create dictionary \n",
    "    visited = {}\n",
    "\n",
    "    visited[node.label]  = root\n",
    "\n",
    "    while stack:\n",
    "\n",
    "        top = stack.pop()\n",
    "\n",
    "        for n in top.neighbors:\n",
    "            if n.label not in visited:\n",
    "                stack.append(n)\n",
    "                visited[n.label] = UndirectedGraphNode(n.label)\n",
    "\n",
    "            visited[top.label].neighbors.append(visited[n.label])\n",
    "\n",
    "\n",
    "    return root"
   ]
  }
 ],
 "metadata": {
  "kernelspec": {
   "display_name": "Python 2",
   "language": "python",
   "name": "python2"
  },
  "language_info": {
   "codemirror_mode": {
    "name": "ipython",
    "version": 2
   },
   "file_extension": ".py",
   "mimetype": "text/x-python",
   "name": "python",
   "nbconvert_exporter": "python",
   "pygments_lexer": "ipython2",
   "version": "2.7.10"
  }
 },
 "nbformat": 4,
 "nbformat_minor": 2
}

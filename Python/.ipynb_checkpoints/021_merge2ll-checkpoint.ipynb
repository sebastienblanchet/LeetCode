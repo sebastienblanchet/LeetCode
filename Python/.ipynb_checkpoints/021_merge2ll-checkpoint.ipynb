{
 "cells": [
  {
   "cell_type": "markdown",
   "metadata": {},
   "source": [
    "Merge two sorted linked lists and return it as a new list. The new list should be made by splicing together the nodes of the first two lists.\n",
    "\n",
    "Example:\n",
    "\n",
    "Input: 1->2->4, 1->3->4\n",
    "Output: 1->1->2->3->4->4\n"
   ]
  },
  {
   "cell_type": "code",
   "execution_count": 5,
   "metadata": {},
   "outputs": [
    {
     "data": {
      "text/plain": [
       "<bound method ListNode.trav of <__main__.ListNode object at 0x101c63890>>"
      ]
     },
     "execution_count": 5,
     "metadata": {},
     "output_type": "execute_result"
    }
   ],
   "source": [
    "# Definition for singly-linked list.\n",
    "\n",
    "class ListNode(object):\n",
    "    def __init__(self, x):\n",
    "        self.val = x\n",
    "        self.next = None\n",
    "        \n",
    "    def trav(self):\n",
    "        nd = self\n",
    "        while nd is not None:\n",
    "            print(nd.val)\n",
    "            nd = nd.next\n",
    "\n",
    "\n",
    "def mergeTwoLists_it(l1, l2):\n",
    "        \"\"\"\n",
    "        :type l1: ListNode\n",
    "        :type l2: ListNode\n",
    "        :rtype: ListNode\n",
    "        \"\"\"\n",
    "        if not l1 or not l2:\n",
    "            # if one of them is empty, return empty\n",
    "            return l1 or l2\n",
    "        \n",
    "        if l1.val < l2.val:\n",
    "            l1.next = mergeTwoLists(l1.next,l2)\n",
    "            return l1\n",
    "        else:\n",
    "            l2.next = mergeTwoLists(l1, l2.next)\n",
    "            return l2\n",
    "    \n",
    "        \n",
    "        \n",
    "        \n",
    "#  Init lists        \n",
    "l1_n1 = ListNode(1)\n",
    "l1_n2 = ListNode(2)\n",
    "l1_n3 = ListNode(4)\n",
    "l1_n1.next = l1_n2\n",
    "l1_n2.next = l1_n3\n",
    "\n",
    "l2_n1 = ListNode(1)\n",
    "l2_n2 = ListNode(3)\n",
    "l2_n3 = ListNode(4)\n",
    "l2_n1.next = l2_n2\n",
    "l2_n2.next = l2_n3\n",
    "\n",
    "lout=  mergeTwoLists(l1_n1, l2_n2)\n",
    "\n",
    "lout.trav"
   ]
  },
  {
   "cell_type": "code",
   "execution_count": null,
   "metadata": {},
   "outputs": [],
   "source": []
  },
  {
   "cell_type": "code",
   "execution_count": null,
   "metadata": {},
   "outputs": [],
   "source": []
  }
 ],
 "metadata": {
  "kernelspec": {
   "display_name": "Python 2",
   "language": "python",
   "name": "python2"
  },
  "language_info": {
   "codemirror_mode": {
    "name": "ipython",
    "version": 2
   },
   "file_extension": ".py",
   "mimetype": "text/x-python",
   "name": "python",
   "nbconvert_exporter": "python",
   "pygments_lexer": "ipython2",
   "version": "2.7.10"
  }
 },
 "nbformat": 4,
 "nbformat_minor": 2
}

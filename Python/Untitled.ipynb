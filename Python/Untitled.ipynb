{
 "cells": [
  {
   "cell_type": "markdown",
   "metadata": {},
   "source": [
    "621 Task scheduler\n",
    "https://leetcode.com/problems/task-scheduler/description/\n",
    "\n",
    "Given a char array representing tasks CPU need to do. \n",
    "It contains capital letters A to Z where different letters represent different tasks.\n",
    "Tasks could be done without original order. \n",
    "Each task could be done in one interval. \n",
    "For each interval, CPU could finish one task or just be idle.\n",
    "\n",
    "However, there is a non-negative cooling interval n that means between \n",
    "two same tasks, there must be at least n intervals that CPU are doing \n",
    "different tasks or just be idle.\n",
    "\n",
    "You need to return the least number of intervals the CPU will \n",
    "take to finish all the given tasks.\n",
    "\n",
    "Example 1:\n",
    "Input: tasks = [\"A\",\"A\",\"A\",\"B\",\"B\",\"B\"], n = 2\n",
    "Output: 8\n",
    "Explanation: A -> B -> idle -> A -> B -> idle -> A -> B.\n",
    "Note:\n",
    "The number of tasks is in the range [1, 10000].\n",
    "The integer n is in the range [0, 100].\n",
    "\n",
    "QUEUE\n"
   ]
  },
  {
   "cell_type": "code",
   "execution_count": 8,
   "metadata": {},
   "outputs": [
    {
     "data": {
      "text/plain": [
       "0"
      ]
     },
     "execution_count": 8,
     "metadata": {},
     "output_type": "execute_result"
    }
   ],
   "source": [
    "from __future__ import print_function\n",
    "# Q for 2.7\n",
    "import Queue\n",
    "\n",
    "'''\n",
    "#Recall\n",
    "q = queue.Queue(maxsize=n)\n",
    "\n",
    "# put on top of queue\n",
    "q.put()\n",
    "\n",
    "# Get FIFO\n",
    "q.get()\n",
    "\n",
    "# bool if full\n",
    "q.full()\n",
    "\n",
    "# bool if empty\n",
    "q.empty()\n",
    "'''\n",
    "\n",
    "class Solution(object):\n",
    "    def leastInterval(self, tasks, n):\n",
    "        \"\"\"\n",
    "        :type tasks: List[str]\n",
    "        :type n: int\n",
    "        :rtype: int\n",
    "        \"\"\"\n",
    "        ans = 0\n",
    "        \n",
    "        \n",
    "        return ans\n",
    "\n",
    "tasks, n = [\"A\",\"A\",\"A\",\"B\",\"B\",\"B\"],  2\n",
    "Solution().leastInterval(tasks, n)"
   ]
  }
 ],
 "metadata": {
  "kernelspec": {
   "display_name": "Python 2",
   "language": "python",
   "name": "python2"
  },
  "language_info": {
   "codemirror_mode": {
    "name": "ipython",
    "version": 2
   },
   "file_extension": ".py",
   "mimetype": "text/x-python",
   "name": "python",
   "nbconvert_exporter": "python",
   "pygments_lexer": "ipython2",
   "version": "2.7.10"
  }
 },
 "nbformat": 4,
 "nbformat_minor": 2
}

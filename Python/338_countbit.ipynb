{
 "cells": [
  {
   "cell_type": "markdown",
   "metadata": {},
   "source": [
    "338 Count Bits\n",
    "\n",
    "Given a non negative integer number num. For every numbers i in the range \n",
    "0 ≤ i ≤ num calculate the number of 1's in their binary representation \n",
    "and return them as an array.\n",
    "\n",
    "Example:\n",
    "For num = 5 you should return [0,1,1,2,1,2].\n",
    "\n",
    "Follow up:\n",
    "\n",
    "It is very easy to come up with a solution with run time O(n*sizeof(integer)). But can you do it in linear time O(n) /possibly in a single pass?\n",
    "Space complexity should be O(n).\n",
    "Can you do it like a boss? Do it without using any builtin function like __builtin_popcount in c++ or in any other language.\n",
    "Credits:\n",
    "Special thanks to @ syedee for adding this problem and creating all test cases.\n",
    "\n",
    "Dynamic Programming, bitmanip"
   ]
  },
  {
   "cell_type": "code",
   "execution_count": 30,
   "metadata": {},
   "outputs": [
    {
     "name": "stdout",
     "output_type": "stream",
     "text": [
      "For number 0, binary is 0b0, implies 0 ones\n",
      "For number 1, binary is 0b1, implies 1 ones\n",
      "For number 2, binary is 0b10, implies 1 ones\n",
      "For number 3, binary is 0b11, implies 2 ones\n",
      "For number 4, binary is 0b100, implies 1 ones\n",
      "For number 5, binary is 0b101, implies 2 ones\n"
     ]
    },
    {
     "data": {
      "text/plain": [
       "[0, 1, 1, 2, 1, 2]"
      ]
     },
     "execution_count": 30,
     "metadata": {},
     "output_type": "execute_result"
    }
   ],
   "source": [
    "from __future__ import print_function\n",
    "\n",
    "class Solution(object):\n",
    "    def countBits_bad(self, num):\n",
    "        \"\"\"\n",
    "        :type num: int\n",
    "        :rtype: List[int]\n",
    "        \"\"\"\n",
    "        ans = []\n",
    "        ones = 0\n",
    "        for i in range(0, num + 1):\n",
    "            temp = str(bin(i))\n",
    "            for j in range(0, len(temp)):\n",
    "                if temp[j] == \"1\":\n",
    "                    ones +=1\n",
    "            \n",
    "            ans.append(ones)\n",
    "            ones = 0     \n",
    "    \n",
    "        return ans\n",
    "    \n",
    "    def countBits(self, num):\n",
    "        \"\"\"\n",
    "        :type num: int\n",
    "        :rtype: List[int]\n",
    "        \"\"\"\n",
    "        ans = [0]*(num + 1)\n",
    "        bins = [0]*(num + 1)\n",
    "        \n",
    "        for i in range(0, num + 1):\n",
    "            bins[i] = bin(i)\n",
    "            ans[i] = ans[i >> 1] + (i&1)\n",
    "            print('For number {}, binary is {}, implies {} ones' .format(i, bins[i], ans[i]))\n",
    "        return ans\n",
    "        \n",
    "Solution().countBits(5)"
   ]
  },
  {
   "cell_type": "code",
   "execution_count": 34,
   "metadata": {},
   "outputs": [
    {
     "ename": "ValueError",
     "evalue": "Invalid conversion specification",
     "output_type": "error",
     "traceback": [
      "\u001b[0;31m---------------------------------------------------------------------------\u001b[0m",
      "\u001b[0;31mValueError\u001b[0m                                Traceback (most recent call last)",
      "\u001b[0;32m<ipython-input-34-eab36e1a8343>\u001b[0m in \u001b[0;36m<module>\u001b[0;34m()\u001b[0m\n\u001b[1;32m      1\u001b[0m \u001b[0ma\u001b[0m \u001b[0;34m=\u001b[0m \u001b[0mstr\u001b[0m\u001b[0;34m(\u001b[0m\u001b[0mbin\u001b[0m\u001b[0;34m(\u001b[0m\u001b[0;36m15\u001b[0m\u001b[0;34m)\u001b[0m\u001b[0;34m)\u001b[0m\u001b[0;34m\u001b[0m\u001b[0m\n\u001b[1;32m      2\u001b[0m \u001b[0mlen\u001b[0m\u001b[0;34m(\u001b[0m\u001b[0ma\u001b[0m\u001b[0;34m)\u001b[0m\u001b[0;34m\u001b[0m\u001b[0m\n\u001b[0;32m----> 3\u001b[0;31m \u001b[0mformat\u001b[0m\u001b[0;34m(\u001b[0m\u001b[0mlen\u001b[0m\u001b[0;34m(\u001b[0m\u001b[0ma\u001b[0m\u001b[0;34m)\u001b[0m\u001b[0;34m-\u001b[0m\u001b[0;36m2\u001b[0m\u001b[0;34m,\u001b[0m\u001b[0ma\u001b[0m\u001b[0;34m)\u001b[0m\u001b[0;34m\u001b[0m\u001b[0m\n\u001b[0m",
      "\u001b[0;31mValueError\u001b[0m: Invalid conversion specification"
     ]
    }
   ],
   "source": [
    "a = str(bin(15))\n",
    "len(a)\n",
    "format(len(a)-2,a)\n"
   ]
  },
  {
   "cell_type": "code",
   "execution_count": 36,
   "metadata": {},
   "outputs": [
    {
     "data": {
      "text/plain": [
       "20"
      ]
     },
     "execution_count": 36,
     "metadata": {},
     "output_type": "execute_result"
    }
   ],
   "source": []
  },
  {
   "cell_type": "code",
   "execution_count": null,
   "metadata": {},
   "outputs": [],
   "source": []
  }
 ],
 "metadata": {
  "kernelspec": {
   "display_name": "Python 2",
   "language": "python",
   "name": "python2"
  },
  "language_info": {
   "codemirror_mode": {
    "name": "ipython",
    "version": 2
   },
   "file_extension": ".py",
   "mimetype": "text/x-python",
   "name": "python",
   "nbconvert_exporter": "python",
   "pygments_lexer": "ipython2",
   "version": "2.7.10"
  }
 },
 "nbformat": 4,
 "nbformat_minor": 2
}

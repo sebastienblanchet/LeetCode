{
 "cells": [
  {
   "cell_type": "markdown",
   "metadata": {},
   "source": [
    "477 Hamming Distance\n",
    "\n",
    "he Hamming distance between two integers is the number of positions \n",
    "at which the corresponding bits are different.\n",
    "\n",
    "Now your job is to find the total Hamming distance between all pairs of the \n",
    "given numbers.\n",
    "\n",
    "Example:\n",
    "Input: 4, 14, 2\n",
    "\n",
    "Output: 6\n",
    "\n",
    "Explanation: In binary representation, the 4 is 0100, 14 is 1110, and 2\n",
    "is 0010 (just\n",
    "showing the four bits relevant in this case). So the answer will be:\n",
    "HammingDistance(4, 14) + HammingDistance(4, 2) + HammingDistance(14, 2) =\n",
    "2 + 2 + 2 = 6.\n",
    "\n",
    "Note:\n",
    "Elements of the given array are in the range of 0 to 10^9\n",
    "Length of the array will not exceed 10^4.\n",
    "\n",
    "\n",
    "\n",
    "1011101 and 1001001 is 2."
   ]
  },
  {
   "cell_type": "code",
   "execution_count": 38,
   "metadata": {},
   "outputs": [
    {
     "name": "stdout",
     "output_type": "stream",
     "text": [
      "Answer is 8 vs 8\n",
      "Answer is 6 vs 6\n"
     ]
    }
   ],
   "source": [
    "from __future__ import print_function\n",
    "import itertools\n",
    "\n",
    "class Solution(object):\n",
    "    def totalHammingDistance(self, nums):\n",
    "        \"\"\"\n",
    "        :type nums: List[int]\n",
    "        :rtype: int\n",
    "        \"\"\"\n",
    "        ans = 0\n",
    "        temp =[]\n",
    "        n = len(nums)\n",
    "        \n",
    "        for i in range(n):\n",
    "            for j in range(i+1, n):\n",
    "                temp = [nums[i], nums[j]]\n",
    "                ans += bin(temp[0]^temp[1]).count(\"1\")      \n",
    "        return ans\n",
    "    \n",
    "nums= [4,14,4,14]\n",
    "print('Answer is 8 vs {}' .format(Solution().totalHammingDistance(nums)))\n",
    "\n",
    "nums= [4, 14, 2]\n",
    "print('Answer is 6 vs {}' .format(Solution().totalHammingDistance(nums)))"
   ]
  },
  {
   "cell_type": "code",
   "execution_count": null,
   "metadata": {},
   "outputs": [],
   "source": []
  }
 ],
 "metadata": {
  "kernelspec": {
   "display_name": "Python 2",
   "language": "python",
   "name": "python2"
  },
  "language_info": {
   "codemirror_mode": {
    "name": "ipython",
    "version": 2
   },
   "file_extension": ".py",
   "mimetype": "text/x-python",
   "name": "python",
   "nbconvert_exporter": "python",
   "pygments_lexer": "ipython2",
   "version": "2.7.10"
  }
 },
 "nbformat": 4,
 "nbformat_minor": 2
}

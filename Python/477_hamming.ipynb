{
 "cells": [
  {
   "cell_type": "markdown",
   "metadata": {},
   "source": [
    "477 Hamming Distance\n",
    "\n",
    "he Hamming distance between two integers is the number of positions \n",
    "at which the corresponding bits are different.\n",
    "\n",
    "Now your job is to find the total Hamming distance between all pairs of the \n",
    "given numbers.\n",
    "\n",
    "Example:\n",
    "Input: 4, 14, 2\n",
    "\n",
    "Output: 6\n",
    "\n",
    "Explanation: In binary representation, the 4 is 0100, 14 is 1110, and 2\n",
    "is 0010 (just\n",
    "showing the four bits relevant in this case). So the answer will be:\n",
    "HammingDistance(4, 14) + HammingDistance(4, 2) + HammingDistance(14, 2) =\n",
    "2 + 2 + 2 = 6.\n",
    "\n",
    "Note:\n",
    "Elements of the given array are in the range of 0 to 10^9\n",
    "Length of the array will not exceed 10^4.\n",
    "\n",
    "\n",
    "\n",
    "1011101 and 1001001 is 2."
   ]
  },
  {
   "cell_type": "code",
   "execution_count": 33,
   "metadata": {},
   "outputs": [
    {
     "name": "stdout",
     "output_type": "stream",
     "text": [
      "[(4, 14), (4, 2), (4, 2), (14, 2), (14, 2), (2, 2)]\n"
     ]
    },
    {
     "data": {
      "text/plain": [
       "10"
      ]
     },
     "execution_count": 33,
     "metadata": {},
     "output_type": "execute_result"
    }
   ],
   "source": [
    "from __future__ import print_function\n",
    "import itertools\n",
    "\n",
    "class Solution(object):\n",
    "    def totalHammingDistance(self, nums):\n",
    "        \"\"\"\n",
    "        :type nums: List[int]\n",
    "        :rtype: int\n",
    "        \"\"\"\n",
    "        ans = 0\n",
    "        \n",
    "        combs = list(itertools.combinations(nums,2))\n",
    "        print(combs)\n",
    "        \n",
    "        while combs:\n",
    "            ans += self.HamDist(combs.pop())\n",
    "        \n",
    "        return ans\n",
    "        \n",
    "        \n",
    "    def HamDist(self, pair):\n",
    "    \n",
    "        # xor the result\n",
    "        ans  = pair[0]^pair[1]\n",
    "        \n",
    "        # return ones in binary number\n",
    "        return bin(ans).count(\"1\")\n",
    "        \n",
    "nums = [4, 14, 2, 2]\n",
    "Solution().totalHammingDistance(nums)"
   ]
  },
  {
   "cell_type": "code",
   "execution_count": null,
   "metadata": {},
   "outputs": [],
   "source": []
  }
 ],
 "metadata": {
  "kernelspec": {
   "display_name": "Python 2",
   "language": "python",
   "name": "python2"
  },
  "language_info": {
   "codemirror_mode": {
    "name": "ipython",
    "version": 2
   },
   "file_extension": ".py",
   "mimetype": "text/x-python",
   "name": "python",
   "nbconvert_exporter": "python",
   "pygments_lexer": "ipython2",
   "version": "2.7.10"
  }
 },
 "nbformat": 4,
 "nbformat_minor": 2
}

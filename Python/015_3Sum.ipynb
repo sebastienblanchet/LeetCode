{
 "cells": [
  {
   "cell_type": "markdown",
   "metadata": {},
   "source": [
    "#015 3Sum \n",
    "https://leetcode.com/problems/3sum/description/\n",
    "\n",
    "Given an array nums of n integers, are there elements a, b, c in nums such that a + b + c = 0? Find all unique triplets in the array which gives the sum of zero.\n",
    "\n",
    "Note:\n",
    "\n",
    "The solution set must not contain duplicate triplets.\n",
    "\n",
    "Example:\n",
    "\n",
    "Given array nums = [-1, 0, 1, 2, -1, -4],\n",
    "\n",
    "A solution set is:\n",
    "[\n",
    "  [-1, 0, 1],\n",
    "  [-1, -1, 2]\n",
    "]\n",
    "\n",
    "ftopics: array, two pointers"
   ]
  },
  {
   "cell_type": "code",
   "execution_count": 28,
   "metadata": {},
   "outputs": [
    {
     "name": "stdout",
     "output_type": "stream",
     "text": [
      "[(0, 1, 2), (0, 1, 3), (0, 1, 4), (0, 1, 5), (0, 2, 3), (0, 2, 4), (0, 2, 5), (0, 3, 4), (0, 3, 5), (0, 4, 5), (1, 2, 3), (1, 2, 4), (1, 2, 5), (1, 3, 4), (1, 3, 5), (1, 4, 5), (2, 3, 4), (2, 3, 5), (2, 4, 5), (3, 4, 5)]\n",
      "l:-1, m:0, r:1\n",
      "l:-1, m:2, r:-1\n",
      "l:0, m:1, r:-1\n",
      "FAILED with soln [[-1, 0, 1], [-1, 2, -1], [0, 1, -1]]\n"
     ]
    }
   ],
   "source": [
    "#  need to import all modules\n",
    "from __future__ import print_function\n",
    "import itertools\n",
    "\n",
    "def threeSum(nums):\n",
    "    \"\"\"\n",
    "    :type nums: List[int]\n",
    "    :rtype: List[List[int]]\n",
    "    \"\"\"\n",
    "    # Init ans list\n",
    "    ans = []\n",
    "    n = len(nums)\n",
    "    l = 0\n",
    "    m = 0\n",
    "    r = 0\n",
    "    \n",
    "    permutes = list(itertools.combinations(range(0, n), 3))\n",
    "    print(permutes)\n",
    "    for i in range(0, len(permutes)):        \n",
    "        \n",
    "        l, m, r = nums[permutes[i][0]], nums[permutes[i][1]], nums[permutes[i][2]]\n",
    "        \n",
    "        if (l + m + r ==0):\n",
    "            print('l:{}, m:{}, r:{}' .format(l, m, r))\n",
    "            ans.append([l , m ,r])\n",
    "    return ans\n",
    "    \n",
    "test = [-1, 0, 1, 2, -1, -4]\n",
    "actual = [[-1, 0, 1],[-1, -1, 2]]\n",
    "\n",
    "soln = threeSum(test)\n",
    "\n",
    "if soln == actual:\n",
    "    print('PASSED with soln {}' .format(soln))\n",
    "else: \n",
    "    print('FAILED with soln {}' .format(soln))\n",
    "    "
   ]
  },
  {
   "cell_type": "code",
   "execution_count": null,
   "metadata": {},
   "outputs": [],
   "source": []
  }
 ],
 "metadata": {
  "kernelspec": {
   "display_name": "Python 2",
   "language": "python",
   "name": "python2"
  },
  "language_info": {
   "codemirror_mode": {
    "name": "ipython",
    "version": 2
   },
   "file_extension": ".py",
   "mimetype": "text/x-python",
   "name": "python",
   "nbconvert_exporter": "python",
   "pygments_lexer": "ipython2",
   "version": "2.7.10"
  }
 },
 "nbformat": 4,
 "nbformat_minor": 2
}

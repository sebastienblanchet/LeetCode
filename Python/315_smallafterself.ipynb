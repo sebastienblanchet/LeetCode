{
 "cells": [
  {
   "cell_type": "markdown",
   "metadata": {},
   "source": [
    "315 Count of Smaller Number after Self\n",
    "\n",
    "\n",
    "You are given an integer array nums and you have to return a new\n",
    "counts array. The counts array has the property where counts[i] is \n",
    "the number of smaller elements to the right of nums[i].\n",
    "\n",
    "Example:\n",
    "Input: [5,2,6,1]\n",
    "Output: [2,1,1,0] \n",
    "\n",
    "Explanation:\n",
    "To the right of 5 there are 2 smaller elements (2 and 1).\n",
    "To the right of 2 there is only 1 smaller element (1).\n",
    "To the right of 6 there is 1 smaller element (1).\n",
    "To the right of 1 there is 0 smaller element.\n",
    "\n",
    "Topics:\n",
    "Divide and Conquer, Binary Indexed Tree, Segment Tree, Binary Search Tree\n"
   ]
  },
  {
   "cell_type": "code",
   "execution_count": 54,
   "metadata": {},
   "outputs": [
    {
     "name": "stdout",
     "output_type": "stream",
     "text": [
      "[(0, 5)]\n",
      "[(1, 2)]\n",
      "[(1, 2), (0, 5)]\n",
      "[(2, 6)]\n",
      "[(3, 1)]\n",
      "[(3, 1), (2, 6)]\n",
      "[(3, 1), (1, 2), (0, 5), (2, 6)]\n",
      "[2, 1, 1, 0]\n",
      "True\n"
     ]
    }
   ],
   "source": [
    "from __future__ import print_function\n",
    "import bisect\n",
    "\n",
    "class Solution(object):\n",
    "    # init solution brute force\n",
    "    def countSmaller_brute(self, nums):\n",
    "        \"\"\"\n",
    "        :type nums: List[int]\n",
    "        :rtype: List[int]\n",
    "        \"\"\"\n",
    "        n = len(nums)\n",
    "        # last will always be zero?\n",
    "        ans = [0]*n\n",
    "        \n",
    "        for i in range(n-1):\n",
    "            temp = 0\n",
    "            for j in range(i, i+n):\n",
    "                if nums[i] > nums[j]:\n",
    "                    temp +=1\n",
    "            ans[i]= temp\n",
    "            n -=1\n",
    "        return ans\n",
    "\n",
    "    # using merge sort\n",
    "    # https://leetcode.com/problems/count-of-smaller-numbers-after-self/discuss/76584/Mergesort-solution\n",
    "    def countSmaller(self, nums):\n",
    "        \"\"\"\n",
    "        :type nums: List[int]\n",
    "        :rtype: List[int]\n",
    "        \"\"\"\n",
    "        # init merge sort function\n",
    "        \n",
    "        def mergesort(enum):\n",
    "            mid = len(enum) / 2\n",
    "            if mid:\n",
    "                # recursive call to mergesort on left and right halfs\n",
    "                left = mergesort(enum[:mid])\n",
    "                right = mergesort(enum[mid:])\n",
    "                \n",
    "                # [len(num), ... , 0]\n",
    "                for i in range(len(enum))[::-1]:\n",
    "                    # if at last element\n",
    "                    # check if val needs to be swapped, i.e. is smaller than i\n",
    "                    if not right or left and left[-1][1] > right[-1][1]:\n",
    "                        ans[left[-1][0]] += len(right)\n",
    "                        enum[i] = left.pop()\n",
    "                    else:\n",
    "                        enum[i] = right.pop()\n",
    "            return enum\n",
    "        \n",
    "        n = len(nums)\n",
    "        # last will always be zero?\n",
    "        ans = [0]*n\n",
    "        # generate list of idx & val\n",
    "        enum= list(enumerate(nums))\n",
    "        \n",
    "        # call mergesort\n",
    "        mergesort(enum)\n",
    "        return ans\n",
    "    \n",
    "inp = [5,2,6,1]\n",
    "out = [2,1,1,0] \n",
    "sol = Solution().countSmaller(inp)\n",
    "\n",
    "print(out == sol)"
   ]
  },
  {
   "cell_type": "code",
   "execution_count": 11,
   "metadata": {},
   "outputs": [
    {
     "name": "stdout",
     "output_type": "stream",
     "text": [
      "for inp[1:]: [2, 6, 1] (i.e. to the RIGHT) \n",
      "for inp[:1]: [5] (i.e. to the LEFT)\n",
      "for inp[1:3]: [2, 6] (i.e. to the MIDDLE)\n",
      "for inp[::-1]: [1, 6, 2, 5] \n"
     ]
    }
   ],
   "source": [
    "'''\n",
    "suffixes x[i :] n RIGHT\n",
    "prefixes x[: i] n LEFT\n",
    "substrings x[i : j]  n2\n",
    "'''\n",
    "\n",
    "inp = [5,2,6,1]\n",
    "print(\"for inp[1:]: {} (i.e. to the RIGHT) \".format(inp[1:]))\n",
    "print(\"for inp[:1]: {} (i.e. to the LEFT)\".format(inp[:1]))\n",
    "print(\"for inp[1:3]: {} (i.e. to the MIDDLE)\".format(inp[1:3]))\n",
    "print(\"for inp[::-1]: {} \".format(inp[::-1]))"
   ]
  },
  {
   "cell_type": "code",
   "execution_count": null,
   "metadata": {},
   "outputs": [],
   "source": []
  }
 ],
 "metadata": {
  "kernelspec": {
   "display_name": "Python 2",
   "language": "python",
   "name": "python2"
  },
  "language_info": {
   "codemirror_mode": {
    "name": "ipython",
    "version": 2
   },
   "file_extension": ".py",
   "mimetype": "text/x-python",
   "name": "python",
   "nbconvert_exporter": "python",
   "pygments_lexer": "ipython2",
   "version": "2.7.10"
  }
 },
 "nbformat": 4,
 "nbformat_minor": 2
}

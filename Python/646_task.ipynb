{
 "cells": [
  {
   "cell_type": "code",
   "execution_count": 13,
   "metadata": {},
   "outputs": [
    {
     "name": "stdout",
     "output_type": "stream",
     "text": [
      "-3\n",
      "-3\n",
      "[-2]\n",
      "[-2, -2]\n",
      "-2\n",
      "-2\n",
      "[-1]\n",
      "[-1, -1]\n",
      "-1\n",
      "-1\n"
     ]
    },
    {
     "data": {
      "text/plain": [
       "8"
      ]
     },
     "execution_count": 13,
     "metadata": {},
     "output_type": "execute_result"
    }
   ],
   "source": [
    "from __future__ import print_function\n",
    "# NEED TO KNOW\n",
    "import collections\n",
    "# https://www.tutorialspoint.com/python/python_heaps.htm\n",
    "import heapq \n",
    "\n",
    "class Solution(object):\n",
    "    # greedy algo\n",
    "    def leastInterval(self, tasks, n):\n",
    "        # init\n",
    "        ans = 0\n",
    "        n +=1 \n",
    "        \n",
    "        # Create dic w/ val:counter\n",
    "        dt = collections.Counter(tasks)\n",
    "        \n",
    "        # priority heap\n",
    "        # place most frequent tasks w/ highest priority\n",
    "        # heap = [-c for c in dt.values()]\n",
    "        \n",
    "        # Use list comp, for loop for debugging\n",
    "        heap = []\n",
    "        for c in dt.values():\n",
    "            heap.append(-c)\n",
    "        \n",
    "        # heapify\n",
    "        heapq.heapify(heap)\n",
    "        while heap:\n",
    "            # create stack with ans\n",
    "            stack = []\n",
    "            # init counter\n",
    "            cnt = 0\n",
    "            # repeat n times\n",
    "            for _ in range(n):\n",
    "                \n",
    "                if heap:\n",
    "                    c = heapq.heappop(heap)\n",
    "                    print(c)\n",
    "                    cnt +=1\n",
    "                    if c < -1:\n",
    "                        stack.append(c+1)\n",
    "                        \n",
    "            for item in stack:\n",
    "                heapq.heappush(heap, item)\n",
    "                print(heap)\n",
    "                \n",
    "            ans +=heap and n or cnt        \n",
    "        \n",
    "        return ans\n",
    "    \n",
    "tasks = [\"A\",\"A\",\"A\",\"B\",\"B\",\"B\"]\n",
    "Solution().leastInterval(tasks, 2)"
   ]
  },
  {
   "cell_type": "code",
   "execution_count": null,
   "metadata": {},
   "outputs": [],
   "source": []
  }
 ],
 "metadata": {
  "kernelspec": {
   "display_name": "Python 2",
   "language": "python",
   "name": "python2"
  },
  "language_info": {
   "codemirror_mode": {
    "name": "ipython",
    "version": 2
   },
   "file_extension": ".py",
   "mimetype": "text/x-python",
   "name": "python",
   "nbconvert_exporter": "python",
   "pygments_lexer": "ipython2",
   "version": "2.7.10"
  }
 },
 "nbformat": 4,
 "nbformat_minor": 2
}

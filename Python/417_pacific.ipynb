{
 "cells": [
  {
   "cell_type": "markdown",
   "metadata": {},
   "source": [
    "417 Pacific Atlantic Water Flow\n",
    "\n",
    "Given an m x n matrix of non-negative integers \n",
    "representing the height of each unit cell in a continent, \n",
    "the \"Pacific ocean\" touches the left and top edges of the matrix\n",
    "and the \"Atlantic ocean\" touches the right and bottom edges.\n",
    "\n",
    "Water can only flow in four directions (up, down, left, or \n",
    "right) from a cell to another one with height equal or lower.\n",
    "\n",
    "Find the list of grid coordinates where water can flow to both\n",
    "the Pacific and Atlantic ocean.\n",
    "\n",
    "Note:\n",
    "The order of returned grid coordinates does not matter.\n",
    "Both m and n are less than 150.\n",
    "Example:\n",
    "\n",
    "Given the following 5x5 matrix:\n",
    "\n",
    "  Pacific ~   ~   ~   ~   ~ \n",
    "       ~  1   2   2   3  (5) *\n",
    "       ~  3   2   3  (4) (4) *\n",
    "       ~  2   4  (5)  3   1  *\n",
    "       ~ (6) (7)  1   4   5  *\n",
    "       ~ (5)  1   1   2   4  *\n",
    "          *   *   *   *   * Atlantic\n",
    "\n",
    "Return:\n",
    "\n",
    "[[0, 4], [1, 3], [1, 4], [2, 2], [3, 0], [3, 1], [4, 0]] (positions with parentheses in above matrix).\n",
    "\n",
    "\n",
    "Topics: BFS & DFS"
   ]
  },
  {
   "cell_type": "code",
   "execution_count": 4,
   "metadata": {},
   "outputs": [
    {
     "name": "stdout",
     "output_type": "stream",
     "text": [
      "1\n",
      "2\n",
      "2\n",
      "3\n",
      "5\n",
      "3\n",
      "2\n",
      "3\n",
      "4\n",
      "4\n",
      "2\n",
      "4\n",
      "5\n",
      "3\n",
      "1\n",
      "6\n",
      "7\n",
      "1\n",
      "4\n",
      "5\n",
      "5\n",
      "1\n",
      "1\n",
      "2\n",
      "4\n"
     ]
    }
   ],
   "source": [
    "class Solution(object):\n",
    "    def pacificAtlantic(self, matrix):\n",
    "        \"\"\"\n",
    "        :type matrix: List[List[int]]\n",
    "        :rtype:       List[List[int]]\n",
    "        \"\"\"\n",
    "        # get rows\n",
    "        m = len(matrix)\n",
    "        # get cols\n",
    "        n = len(matrix[:])\n",
    "        \n",
    "        # cycle through r c\n",
    "        for i in range(m):\n",
    "            for j in range(n):\n",
    "                \n",
    "                print(matrix[i][j])\n",
    "    \n",
    "matrix = [[1,2, 2, 3, 5],\n",
    "[3, 2, 3, 4, 4],\n",
    "[2, 4, 5, 3, 1],\n",
    "[6, 7, 1, 4, 5],\n",
    "[5, 1, 1, 2, 4]]\n",
    "\n",
    "Solution().pacificAtlantic(matrix)"
   ]
  },
  {
   "cell_type": "code",
   "execution_count": null,
   "metadata": {},
   "outputs": [],
   "source": []
  }
 ],
 "metadata": {
  "kernelspec": {
   "display_name": "Python 2",
   "language": "python",
   "name": "python2"
  },
  "language_info": {
   "codemirror_mode": {
    "name": "ipython",
    "version": 2
   },
   "file_extension": ".py",
   "mimetype": "text/x-python",
   "name": "python",
   "nbconvert_exporter": "python",
   "pygments_lexer": "ipython2",
   "version": "2.7.10"
  }
 },
 "nbformat": 4,
 "nbformat_minor": 2
}

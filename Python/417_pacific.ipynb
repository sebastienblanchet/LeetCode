{
 "cells": [
  {
   "cell_type": "markdown",
   "metadata": {},
   "source": [
    "417 Pacific Atlantic Water Flow\n",
    "\n",
    "Given an m x n matrix of non-negative integers \n",
    "representing the height of each unit cell in a continent, \n",
    "the \"Pacific ocean\" touches the left and top edges of the matrix\n",
    "and the \"Atlantic ocean\" touches the right and bottom edges.\n",
    "\n",
    "Water can only flow in four directions (up, down, left, or \n",
    "right) from a cell to another one with height equal or lower.\n",
    "\n",
    "Find the list of grid coordinates where water can flow to both\n",
    "the Pacific and Atlantic ocean.\n",
    "\n",
    "Note:\n",
    "The order of returned grid coordinates does not matter.\n",
    "Both m and n are less than 150.\n",
    "Example:\n",
    "\n",
    "Given the following 5x5 matrix:\n",
    "\n",
    "  Pacific ~   ~   ~   ~   ~ \n",
    "       ~  1   2   2   3  (5) *\n",
    "       ~  3   2   3  (4) (4) *\n",
    "       ~  2   4  (5)  3   1  *\n",
    "       ~ (6) (7)  1   4   5  *\n",
    "       ~ (5)  1   1   2   4  *\n",
    "          *   *   *   *   * Atlantic\n",
    "\n",
    "Return:\n",
    "\n",
    "[[0, 4], [1, 3], [1, 4], [2, 2], [3, 0], [3, 1], [4, 0]] (positions with parentheses in above matrix).\n",
    "\n",
    "\n",
    "Topics: BFS & DFS"
   ]
  },
  {
   "cell_type": "code",
   "execution_count": 10,
   "metadata": {},
   "outputs": [
    {
     "data": {
      "text/plain": [
       "[[2, 1], [2, 2], [3, 0], [3, 1], [3, 3], [3, 4], [4, 0]]"
      ]
     },
     "execution_count": 10,
     "metadata": {},
     "output_type": "execute_result"
    }
   ],
   "source": [
    "from __future__ import print_function\n",
    "\n",
    "class Solution(object):\n",
    "    \n",
    "    # brute force O(n^2) solution\n",
    "    def pacificAtlantic(self, matrix):\n",
    "        \"\"\"\n",
    "        :type matrix: List[List[int]]\n",
    "        :rtype:       List[List[int]]\n",
    "        \"\"\"\n",
    "        \n",
    "        \"\"\"\n",
    "        SOLUTION\n",
    "        reach pacific ocean ==>:\n",
    "        row && col <=  0\n",
    "        \n",
    "        reach atlantic ==>:\n",
    "        rows >= m\n",
    "        cols >= n\n",
    "        \n",
    "        at at matrix[row][col]:\n",
    "        can do max: [0, matrix[row][col]]\n",
    "        ==>\n",
    "        TOWARDS PACIFIC\n",
    "        UP: matrix[row][col+max]\n",
    "        LEFT: matrix[row-max][col]\n",
    "        \n",
    "        TOWARDS ATLANTIC\n",
    "        DOWN: matrix[row][col-max]\n",
    "        RIGHT: matrix[row+max][col]\n",
    "        \"\"\"\n",
    "        \n",
    "        # init ans\n",
    "        ans = []\n",
    "        \n",
    "        # get rows\n",
    "        m = len(matrix)\n",
    "        \n",
    "        # get cols\n",
    "        n = len(matrix[:])\n",
    "    \n",
    "        # cycle through r c\n",
    "        for row in range(m):\n",
    "            for col in range(n):\n",
    "                pacific = False\n",
    "                atlantic = False\n",
    "                height = matrix[row][col]\n",
    "                \n",
    "                if (row - height or col + height ) <= 0:\n",
    "                    pacific = True\n",
    "                    \n",
    "                if (row + height > m) or (col - height > n):\n",
    "                    atlantic = True\n",
    "                \n",
    "                if pacific and atlantic:\n",
    "                    ans.append([row, col])\n",
    "                \n",
    "        return ans\n",
    "    \n",
    "matrix = [[1,2,2,3,5],[3,2,3,4,4],[2,4,5,3,1],[6,7,1,4,5],[5,1,1,2,4]]\n",
    "Solution().pacificAtlantic(matrix)"
   ]
  },
  {
   "cell_type": "code",
   "execution_count": null,
   "metadata": {},
   "outputs": [],
   "source": []
  }
 ],
 "metadata": {
  "kernelspec": {
   "display_name": "Python 2",
   "language": "python",
   "name": "python2"
  },
  "language_info": {
   "codemirror_mode": {
    "name": "ipython",
    "version": 2
   },
   "file_extension": ".py",
   "mimetype": "text/x-python",
   "name": "python",
   "nbconvert_exporter": "python",
   "pygments_lexer": "ipython2",
   "version": "2.7.10"
  }
 },
 "nbformat": 4,
 "nbformat_minor": 2
}

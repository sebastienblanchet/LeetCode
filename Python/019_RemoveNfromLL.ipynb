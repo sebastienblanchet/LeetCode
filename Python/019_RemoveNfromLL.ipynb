{
 "cells": [
  {
   "cell_type": "markdown",
   "metadata": {},
   "source": [
    "Given a linked list, remove the n-th node from the end of list and return its head.\n",
    "\n",
    "Example:\n",
    "\n",
    "Given linked list: 1->2->3->4->5, and n = 2.\n",
    "\n",
    "After removing the second node from the end, the linked list becomes 1->2->3->5.\n",
    "Note:\n",
    "\n",
    "Given n will always be valid.\n",
    "\n",
    "Follow up:\n",
    "\n",
    "Could you do this in one pass?\n",
    "\n",
    "\n",
    "https://leetcode.com/problems/remove-nth-node-from-end-of-list/description/\n",
    "\n",
    "\n",
    "Topics: linked list"
   ]
  },
  {
   "cell_type": "code",
   "execution_count": null,
   "metadata": {},
   "outputs": [],
   "source": [
    "# Definition for singly-linked list.\n",
    "# class ListNode(object):\n",
    "#     def __init__(self, x):\n",
    "#         self.val = x\n",
    "#         self.next = None\n",
    "\n",
    "def removeNthFromEnd(head, n):\n",
    "    \"\"\"\n",
    "    :type head: ListNode\n",
    "    :type n: int\n",
    "    :rtype: ListNode\n",
    "    \"\"\"\n",
    "    list_len = 0\n",
    "    temp = head\n",
    "\n",
    "    # get length\n",
    "    while temp is not None:\n",
    "        print(temp.val)\n",
    "        temp = temp.next\n",
    "        list_len +=1        \n",
    "\n",
    "    print('Linked list is {} long, must delete node {}' .format(list_len, list_len-n))\n",
    "    i = list_len-n\n",
    "\n",
    "    result = head\n",
    "\n",
    "    if i == 0:\n",
    "        return result.next\n",
    "\n",
    "    lst = result    \n",
    "    for _ in range(i-1):\n",
    "        lst = lst.next\n",
    "\n",
    "    lst.next = lst.next.next\n",
    "    return result"
   ]
  }
 ],
 "metadata": {
  "kernelspec": {
   "display_name": "Python 2",
   "language": "python",
   "name": "python2"
  },
  "language_info": {
   "codemirror_mode": {
    "name": "ipython",
    "version": 2
   },
   "file_extension": ".py",
   "mimetype": "text/x-python",
   "name": "python",
   "nbconvert_exporter": "python",
   "pygments_lexer": "ipython2",
   "version": "2.7.10"
  }
 },
 "nbformat": 4,
 "nbformat_minor": 2
}

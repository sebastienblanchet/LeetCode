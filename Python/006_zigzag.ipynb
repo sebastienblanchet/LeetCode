{
 "cells": [
  {
   "cell_type": "code",
   "execution_count": 4,
   "metadata": {},
   "outputs": [
    {
     "name": "stdout",
     "output_type": "stream",
     "text": [
      "['P', 'A', 'Y', 'P', 'A', 'L', 'I', 'S', 'H', 'I', 'R', 'I', 'N', 'G']\n",
      "deque(['P', 'A', 'Y', 'P', 'A', 'L', 'I', 'S', 'H', 'I', 'R', 'I', 'N', 'G'])\n"
     ]
    }
   ],
   "source": [
    "from collections import deque\n",
    "\n",
    "string = \"PAYPALISHIRING\"\n",
    "n = len(string)\n",
    "q = deque()\n",
    "\n",
    "print(list(string))\n",
    "\n",
    "for char in string:\n",
    "    q.append(char)\n",
    "\n",
    "print(q)"
   ]
  },
  {
   "cell_type": "code",
   "execution_count": 43,
   "metadata": {
    "scrolled": true
   },
   "outputs": [
    {
     "name": "stdout",
     "output_type": "stream",
     "text": [
      "['PAHN', 'APLSIIG', 'YIR']\n",
      "“Answer is: PAHNAPLSIIGYIR”\n",
      "“Which is: True”\n",
      "['PIN', 'ALSIG', 'YAHR', 'PI']\n",
      "“Answer is: PINALSIGYAHRPI”\n",
      "“Which is: True”\n"
     ]
    }
   ],
   "source": [
    "from __future__ import print_function\n",
    "\n",
    "class Solution(object):\n",
    "    # clever clean solution \n",
    "    # https://leetcode.com/problems/zigzag-conversion/discuss/3404/Python-O(n)-Solution-in-96ms-(99.43)\n",
    "    def convert(self, s, numRows):\n",
    "        # get len of string, important to determine number of colums\n",
    "        n = len(s)\n",
    "        # handle init cases\n",
    "        if numRows==0: return \"\"\n",
    "        if numRows==1 or numRows >= n: return s\n",
    "\n",
    "        # init ans\n",
    "        ans = [\"\"]*numRows\n",
    "        index = 0\n",
    "        step = 1\n",
    "        \n",
    "        for char in s:\n",
    "            ans[index] += char\n",
    "            # if first element\n",
    "            if index == 0:\n",
    "                # go down one\n",
    "                step = 1\n",
    "            # i.e. at last row\n",
    "            elif index == numRows -1:\n",
    "                # go up\n",
    "                step = -1\n",
    "            # increment index based on location\n",
    "            index += step\n",
    "        \n",
    "        print(ans)\n",
    "        return \"\".join(ans)\n",
    "    \n",
    "    \n",
    "    def convert_seb(self, s, numRows):\n",
    "        # handle init cases\n",
    "        if numRows==0: return “”\n",
    "        if numRows==1: return s\n",
    "\n",
    "        # init ans\n",
    "        ans = “”\n",
    "\n",
    "        # get len of string, important to determine number of colums\n",
    "        n = len(s)\n",
    "\n",
    "        # number columns is calculated as\n",
    "        numCols = (n % numRows)*(numRows -2) + (n//numRows)\n",
    "\n",
    "        # init answer as matrix or X cols???? numRows rows\n",
    "        matrix = [[None for _ in range(numCols) ] for _ in range(numRows)]\n",
    "\n",
    "        #init queue\n",
    "        q = deque()\n",
    "        for char in string:\n",
    "            q.append(char)\n",
    "\n",
    "        row, col = 0, 0\n",
    "        while q:\n",
    "            matrix[row][col] = q.popleft()\n",
    "            if rows < numRows and (col%numRows == 0):\n",
    "                rows +=1\n",
    "\n",
    "            if rows == numRows and (col%numRows != 0):\n",
    "                rows -=1\n",
    "                col +=1\n",
    "\n",
    "        return ans\n",
    "\n",
    "\n",
    "#Driver\n",
    "\n",
    "if __name__ == \"__main__\":\n",
    "    s = \"PAYPALISHIRING\"\n",
    "    numRows = [3, 4]\n",
    "    actual = [\"PAHNAPLSIIGYIR\", \"PINALSIGYAHRPI\"]\n",
    "\n",
    "    for i in range(len(numRows)):\n",
    "        ans = Solution().convert(s, numRows[i])\n",
    "        print(\"“Answer is: {}”\" .format(ans))\n",
    "        isright = bool(ans == actual[i])\n",
    "        print(\"“Which is: {}”\" .format(isright))\n"
   ]
  }
 ],
 "metadata": {
  "kernelspec": {
   "display_name": "Python 2",
   "language": "python",
   "name": "python2"
  },
  "language_info": {
   "codemirror_mode": {
    "name": "ipython",
    "version": 2
   },
   "file_extension": ".py",
   "mimetype": "text/x-python",
   "name": "python",
   "nbconvert_exporter": "python",
   "pygments_lexer": "ipython2",
   "version": "2.7.10"
  }
 },
 "nbformat": 4,
 "nbformat_minor": 2
}

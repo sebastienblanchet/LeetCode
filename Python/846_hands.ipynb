{
 "cells": [
  {
   "cell_type": "markdown",
   "metadata": {},
   "source": [
    "846 Hand of straights\n",
    "MAP"
   ]
  },
  {
   "cell_type": "code",
   "execution_count": 24,
   "metadata": {},
   "outputs": [
    {
     "data": {
      "text/plain": [
       "True"
      ]
     },
     "execution_count": 24,
     "metadata": {},
     "output_type": "execute_result"
    }
   ],
   "source": [
    "from __future__ import print_function\n",
    "import collections \n",
    "\n",
    "class Solution(object):\n",
    "    # brute force solution\n",
    "    def isNStraightHand_brute(self, hand, W):\n",
    "        # init counter of each card\n",
    "        # cnt is a dict of {key:val} -> card:count\n",
    "        cnt = Counter(hand)\n",
    "        print(cnt)\n",
    "        \n",
    "        # it through cnt\n",
    "        while cnt:\n",
    "            # get card with minimum count\n",
    "            min_cnt = min(cnt)\n",
    "            \n",
    "            # cycle through key, val pair (i.e, card and count)\n",
    "            for key in range(min_cnt, min_cnt + W):\n",
    "                val = cnt[key]\n",
    "                \n",
    "                # if there are no cards return false\n",
    "                if not val: \n",
    "                    return False\n",
    "                \n",
    "                # if there is one card left, delete it\n",
    "                if val == 1: \n",
    "                    del cnt[key]\n",
    "                    \n",
    "                # other wise decrement count value\n",
    "                else: \n",
    "                    cnt[key] = val-1\n",
    "        return True\n",
    "    \n",
    "    def isNStraightHand(self, hand, W):\n",
    "        c = collections.Counter(hand)\n",
    "        for i in sorted(c):\n",
    "            # there are some of the cards\n",
    "            if c[i] > 0:\n",
    "                # reverse sort [w-1, .., 0]\n",
    "                for j in range(W)[::-1]:\n",
    "                    # decrement count\n",
    "                    c[i+j] -= c[i]\n",
    "                    # if the count is less then zero no straight\n",
    "                    if c[i+j] <0:\n",
    "                        return False\n",
    "                \n",
    "        return True\n",
    "\n",
    "Solution().isNStraightHand([1,2,3,6,2,3,4,7,8], 3)"
   ]
  },
  {
   "cell_type": "code",
   "execution_count": null,
   "metadata": {},
   "outputs": [],
   "source": []
  }
 ],
 "metadata": {
  "kernelspec": {
   "display_name": "Python 2",
   "language": "python",
   "name": "python2"
  },
  "language_info": {
   "codemirror_mode": {
    "name": "ipython",
    "version": 2
   },
   "file_extension": ".py",
   "mimetype": "text/x-python",
   "name": "python",
   "nbconvert_exporter": "python",
   "pygments_lexer": "ipython2",
   "version": "2.7.10"
  }
 },
 "nbformat": 4,
 "nbformat_minor": 2
}
